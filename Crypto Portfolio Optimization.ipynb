{
 "cells": [
  {
   "cell_type": "code",
   "execution_count": 1,
   "metadata": {},
   "outputs": [],
   "source": [
    "%matplotlib inline\n",
    "import numpy as np\n",
    "import pandas as pd\n",
    "import matplotlib.pyplot as plt\n",
    "import datetime\n",
    "import seaborn as sns"
   ]
  },
  {
   "cell_type": "markdown",
   "metadata": {},
   "source": [
    "## Import data and Analysis\n",
    "### Cryptos: BTC, DOGE\n",
    "### Stocks: XOM, AAPL, FB, WMT"
   ]
  },
  {
   "cell_type": "code",
   "execution_count": 2,
   "metadata": {},
   "outputs": [
    {
     "data": {
      "text/html": [
       "<div>\n",
       "<style scoped>\n",
       "    .dataframe tbody tr th:only-of-type {\n",
       "        vertical-align: middle;\n",
       "    }\n",
       "\n",
       "    .dataframe tbody tr th {\n",
       "        vertical-align: top;\n",
       "    }\n",
       "\n",
       "    .dataframe thead th {\n",
       "        text-align: right;\n",
       "    }\n",
       "</style>\n",
       "<table border=\"1\" class=\"dataframe\">\n",
       "  <thead>\n",
       "    <tr style=\"text-align: right;\">\n",
       "      <th></th>\n",
       "      <th>Open</th>\n",
       "      <th>High</th>\n",
       "      <th>Low</th>\n",
       "      <th>Close</th>\n",
       "      <th>Adj Close</th>\n",
       "      <th>Volume</th>\n",
       "    </tr>\n",
       "    <tr>\n",
       "      <th>Date</th>\n",
       "      <th></th>\n",
       "      <th></th>\n",
       "      <th></th>\n",
       "      <th></th>\n",
       "      <th></th>\n",
       "      <th></th>\n",
       "    </tr>\n",
       "  </thead>\n",
       "  <tbody>\n",
       "    <tr>\n",
       "      <th>2016-03-01</th>\n",
       "      <td>0.000250</td>\n",
       "      <td>0.000250</td>\n",
       "      <td>0.000243</td>\n",
       "      <td>0.000249</td>\n",
       "      <td>0.000249</td>\n",
       "      <td>104087.0</td>\n",
       "    </tr>\n",
       "    <tr>\n",
       "      <th>2016-03-02</th>\n",
       "      <td>0.000247</td>\n",
       "      <td>0.000251</td>\n",
       "      <td>0.000242</td>\n",
       "      <td>0.000244</td>\n",
       "      <td>0.000244</td>\n",
       "      <td>119044.0</td>\n",
       "    </tr>\n",
       "    <tr>\n",
       "      <th>2016-03-03</th>\n",
       "      <td>0.000244</td>\n",
       "      <td>0.000247</td>\n",
       "      <td>0.000239</td>\n",
       "      <td>0.000245</td>\n",
       "      <td>0.000245</td>\n",
       "      <td>150983.0</td>\n",
       "    </tr>\n",
       "    <tr>\n",
       "      <th>2016-03-04</th>\n",
       "      <td>0.000246</td>\n",
       "      <td>0.000247</td>\n",
       "      <td>0.000237</td>\n",
       "      <td>0.000238</td>\n",
       "      <td>0.000238</td>\n",
       "      <td>135462.0</td>\n",
       "    </tr>\n",
       "    <tr>\n",
       "      <th>2016-03-05</th>\n",
       "      <td>0.000238</td>\n",
       "      <td>0.000239</td>\n",
       "      <td>0.000221</td>\n",
       "      <td>0.000224</td>\n",
       "      <td>0.000224</td>\n",
       "      <td>216091.0</td>\n",
       "    </tr>\n",
       "  </tbody>\n",
       "</table>\n",
       "</div>"
      ],
      "text/plain": [
       "                Open      High       Low     Close  Adj Close    Volume\n",
       "Date                                                                   \n",
       "2016-03-01  0.000250  0.000250  0.000243  0.000249   0.000249  104087.0\n",
       "2016-03-02  0.000247  0.000251  0.000242  0.000244   0.000244  119044.0\n",
       "2016-03-03  0.000244  0.000247  0.000239  0.000245   0.000245  150983.0\n",
       "2016-03-04  0.000246  0.000247  0.000237  0.000238   0.000238  135462.0\n",
       "2016-03-05  0.000238  0.000239  0.000221  0.000224   0.000224  216091.0"
      ]
     },
     "execution_count": 2,
     "metadata": {},
     "output_type": "execute_result"
    }
   ],
   "source": [
    "# Loading stocks & cryptos from csv into a dataframe\n",
    "\n",
    "xom_data = pd.read_csv('XOM.csv',index_col='Date',parse_dates=True)\n",
    "aapl_data = pd.read_csv('AAPL.csv',index_col='Date',parse_dates=True)\n",
    "fb_data = pd.read_csv('FB.csv',index_col='Date',parse_dates=True)\n",
    "wmt_data = pd.read_csv('WMT.csv',index_col='Date',parse_dates=True)\n",
    "\n",
    "btc_data = pd.read_csv('BTC-USD.csv',index_col='Date',parse_dates=True)\n",
    "doge_data = pd.read_csv('DOGE-USD.csv',index_col='Date',parse_dates=True)\n",
    "\n",
    "doge_data.head()"
   ]
  },
  {
   "cell_type": "code",
   "execution_count": 3,
   "metadata": {},
   "outputs": [
    {
     "data": {
      "text/html": [
       "<div>\n",
       "<style scoped>\n",
       "    .dataframe tbody tr th:only-of-type {\n",
       "        vertical-align: middle;\n",
       "    }\n",
       "\n",
       "    .dataframe tbody tr th {\n",
       "        vertical-align: top;\n",
       "    }\n",
       "\n",
       "    .dataframe thead th {\n",
       "        text-align: right;\n",
       "    }\n",
       "</style>\n",
       "<table border=\"1\" class=\"dataframe\">\n",
       "  <thead>\n",
       "    <tr style=\"text-align: right;\">\n",
       "      <th></th>\n",
       "      <th>xom</th>\n",
       "      <th>aapl</th>\n",
       "      <th>fb</th>\n",
       "      <th>wmt</th>\n",
       "      <th>BTC</th>\n",
       "      <th>DOGE</th>\n",
       "    </tr>\n",
       "    <tr>\n",
       "      <th>Date</th>\n",
       "      <th></th>\n",
       "      <th></th>\n",
       "      <th></th>\n",
       "      <th></th>\n",
       "      <th></th>\n",
       "      <th></th>\n",
       "    </tr>\n",
       "  </thead>\n",
       "  <tbody>\n",
       "    <tr>\n",
       "      <th>2016-03-01</th>\n",
       "      <td>81.279999</td>\n",
       "      <td>25.132500</td>\n",
       "      <td>109.820000</td>\n",
       "      <td>66.459999</td>\n",
       "      <td>435.122986</td>\n",
       "      <td>0.000249</td>\n",
       "    </tr>\n",
       "    <tr>\n",
       "      <th>2016-03-02</th>\n",
       "      <td>82.699997</td>\n",
       "      <td>25.187500</td>\n",
       "      <td>109.949997</td>\n",
       "      <td>66.209999</td>\n",
       "      <td>423.989014</td>\n",
       "      <td>0.000244</td>\n",
       "    </tr>\n",
       "    <tr>\n",
       "      <th>2016-03-03</th>\n",
       "      <td>82.400002</td>\n",
       "      <td>25.375000</td>\n",
       "      <td>109.580002</td>\n",
       "      <td>66.139999</td>\n",
       "      <td>421.651001</td>\n",
       "      <td>0.000245</td>\n",
       "    </tr>\n",
       "    <tr>\n",
       "      <th>2016-03-04</th>\n",
       "      <td>82.290001</td>\n",
       "      <td>25.752501</td>\n",
       "      <td>108.389999</td>\n",
       "      <td>66.779999</td>\n",
       "      <td>410.938995</td>\n",
       "      <td>0.000238</td>\n",
       "    </tr>\n",
       "    <tr>\n",
       "      <th>2016-03-05</th>\n",
       "      <td>NaN</td>\n",
       "      <td>NaN</td>\n",
       "      <td>NaN</td>\n",
       "      <td>NaN</td>\n",
       "      <td>400.570007</td>\n",
       "      <td>0.000224</td>\n",
       "    </tr>\n",
       "  </tbody>\n",
       "</table>\n",
       "</div>"
      ],
      "text/plain": [
       "                  xom       aapl          fb        wmt         BTC      DOGE\n",
       "Date                                                                         \n",
       "2016-03-01  81.279999  25.132500  109.820000  66.459999  435.122986  0.000249\n",
       "2016-03-02  82.699997  25.187500  109.949997  66.209999  423.989014  0.000244\n",
       "2016-03-03  82.400002  25.375000  109.580002  66.139999  421.651001  0.000245\n",
       "2016-03-04  82.290001  25.752501  108.389999  66.779999  410.938995  0.000238\n",
       "2016-03-05        NaN        NaN         NaN        NaN  400.570007  0.000224"
      ]
     },
     "execution_count": 3,
     "metadata": {},
     "output_type": "execute_result"
    }
   ],
   "source": [
    "# Clean data using only Close price and combining them int crypto df\n",
    "xom_close = xom_data['Close']\n",
    "aapl_close = aapl_data['Close']\n",
    "fb_close = fb_data['Close']\n",
    "wmt_close = wmt_data['Close']\n",
    "\n",
    "btc_close = btc_data['Close']\n",
    "doge_close = doge_data['Close']\n",
    "\n",
    "crypto = pd.concat([xom_close,aapl_close,fb_close,wmt_close,btc_close,doge_close],axis=1)\n",
    "crypto.columns = ['xom','aapl','fb','wmt','BTC','DOGE']\n",
    "crypto.head()"
   ]
  },
  {
   "cell_type": "code",
   "execution_count": 4,
   "metadata": {},
   "outputs": [
    {
     "data": {
      "text/plain": [
       "xom    -0.000105\n",
       "aapl    0.000986\n",
       "fb      0.000609\n",
       "wmt     0.000434\n",
       "BTC     0.003401\n",
       "DOGE    0.005972\n",
       "dtype: float64"
      ]
     },
     "execution_count": 4,
     "metadata": {},
     "output_type": "execute_result"
    }
   ],
   "source": [
    "# Find mean daily return \n",
    "mean_daily_ret = crypto.pct_change(1).mean()\n",
    "mean_daily_ret"
   ]
  },
  {
   "cell_type": "code",
   "execution_count": 5,
   "metadata": {},
   "outputs": [
    {
     "data": {
      "text/html": [
       "<div>\n",
       "<style scoped>\n",
       "    .dataframe tbody tr th:only-of-type {\n",
       "        vertical-align: middle;\n",
       "    }\n",
       "\n",
       "    .dataframe tbody tr th {\n",
       "        vertical-align: top;\n",
       "    }\n",
       "\n",
       "    .dataframe thead th {\n",
       "        text-align: right;\n",
       "    }\n",
       "</style>\n",
       "<table border=\"1\" class=\"dataframe\">\n",
       "  <thead>\n",
       "    <tr style=\"text-align: right;\">\n",
       "      <th></th>\n",
       "      <th>xom</th>\n",
       "      <th>aapl</th>\n",
       "      <th>fb</th>\n",
       "      <th>wmt</th>\n",
       "      <th>BTC</th>\n",
       "      <th>DOGE</th>\n",
       "    </tr>\n",
       "  </thead>\n",
       "  <tbody>\n",
       "    <tr>\n",
       "      <th>xom</th>\n",
       "      <td>1.000000</td>\n",
       "      <td>0.370043</td>\n",
       "      <td>0.309100</td>\n",
       "      <td>0.228701</td>\n",
       "      <td>0.115372</td>\n",
       "      <td>0.027802</td>\n",
       "    </tr>\n",
       "    <tr>\n",
       "      <th>aapl</th>\n",
       "      <td>0.370043</td>\n",
       "      <td>1.000000</td>\n",
       "      <td>0.591397</td>\n",
       "      <td>0.346713</td>\n",
       "      <td>0.128637</td>\n",
       "      <td>0.023610</td>\n",
       "    </tr>\n",
       "    <tr>\n",
       "      <th>fb</th>\n",
       "      <td>0.309100</td>\n",
       "      <td>0.591397</td>\n",
       "      <td>1.000000</td>\n",
       "      <td>0.231565</td>\n",
       "      <td>0.115170</td>\n",
       "      <td>0.014836</td>\n",
       "    </tr>\n",
       "    <tr>\n",
       "      <th>wmt</th>\n",
       "      <td>0.228701</td>\n",
       "      <td>0.346713</td>\n",
       "      <td>0.231565</td>\n",
       "      <td>1.000000</td>\n",
       "      <td>0.095310</td>\n",
       "      <td>-0.001962</td>\n",
       "    </tr>\n",
       "    <tr>\n",
       "      <th>BTC</th>\n",
       "      <td>0.115372</td>\n",
       "      <td>0.128637</td>\n",
       "      <td>0.115170</td>\n",
       "      <td>0.095310</td>\n",
       "      <td>1.000000</td>\n",
       "      <td>0.364326</td>\n",
       "    </tr>\n",
       "    <tr>\n",
       "      <th>DOGE</th>\n",
       "      <td>0.027802</td>\n",
       "      <td>0.023610</td>\n",
       "      <td>0.014836</td>\n",
       "      <td>-0.001962</td>\n",
       "      <td>0.364326</td>\n",
       "      <td>1.000000</td>\n",
       "    </tr>\n",
       "  </tbody>\n",
       "</table>\n",
       "</div>"
      ],
      "text/plain": [
       "           xom      aapl        fb       wmt       BTC      DOGE\n",
       "xom   1.000000  0.370043  0.309100  0.228701  0.115372  0.027802\n",
       "aapl  0.370043  1.000000  0.591397  0.346713  0.128637  0.023610\n",
       "fb    0.309100  0.591397  1.000000  0.231565  0.115170  0.014836\n",
       "wmt   0.228701  0.346713  0.231565  1.000000  0.095310 -0.001962\n",
       "BTC   0.115372  0.128637  0.115170  0.095310  1.000000  0.364326\n",
       "DOGE  0.027802  0.023610  0.014836 -0.001962  0.364326  1.000000"
      ]
     },
     "execution_count": 5,
     "metadata": {},
     "output_type": "execute_result"
    }
   ],
   "source": [
    "# Find correlation\n",
    "crypto.pct_change(1).corr()"
   ]
  },
  {
   "cell_type": "code",
   "execution_count": 6,
   "metadata": {},
   "outputs": [
    {
     "data": {
      "text/plain": [
       "<AxesSubplot:>"
      ]
     },
     "execution_count": 6,
     "metadata": {},
     "output_type": "execute_result"
    },
    {
     "data": {
      "image/png": "[encoded data removed]",
      "text/plain": [
       "<Figure size 432x288 with 2 Axes>"
      ]
     },
     "metadata": {
      "needs_background": "light"
     },
     "output_type": "display_data"
    }
   ],
   "source": [
    "sns.heatmap(crypto.pct_change(1).corr(), vmin=-1, vmax=1, center=0, cmap=sns.diverging_palette(200, 220, n=200))"
   ]
  },
  {
   "cell_type": "code",
   "execution_count": 7,
   "metadata": {},
   "outputs": [
    {
     "data": {
      "text/plain": [
       "<AxesSubplot:xlabel='Date'>"
      ]
     },
     "execution_count": 7,
     "metadata": {},
     "output_type": "execute_result"
    },
    {
     "data": {
      "image/png": "[encoded data removed]",
      "text/plain": [
       "<Figure size 720x432 with 1 Axes>"
      ]
     },
     "metadata": {
      "needs_background": "light"
     },
     "output_type": "display_data"
    }
   ],
   "source": [
    "#Normalize cryptos df\n",
    "crypto_norm = crypto/crypto.iloc[0]\n",
    "crypto_norm.plot(figsize=(10,6))"
   ]
  },
  {
   "cell_type": "code",
   "execution_count": 8,
   "metadata": {},
   "outputs": [
    {
     "data": {
      "text/html": [
       "<div>\n",
       "<style scoped>\n",
       "    .dataframe tbody tr th:only-of-type {\n",
       "        vertical-align: middle;\n",
       "    }\n",
       "\n",
       "    .dataframe tbody tr th {\n",
       "        vertical-align: top;\n",
       "    }\n",
       "\n",
       "    .dataframe thead th {\n",
       "        text-align: right;\n",
       "    }\n",
       "</style>\n",
       "<table border=\"1\" class=\"dataframe\">\n",
       "  <thead>\n",
       "    <tr style=\"text-align: right;\">\n",
       "      <th></th>\n",
       "      <th>xom</th>\n",
       "      <th>aapl</th>\n",
       "      <th>fb</th>\n",
       "      <th>wmt</th>\n",
       "      <th>BTC</th>\n",
       "      <th>DOGE</th>\n",
       "    </tr>\n",
       "    <tr>\n",
       "      <th>Date</th>\n",
       "      <th></th>\n",
       "      <th></th>\n",
       "      <th></th>\n",
       "      <th></th>\n",
       "      <th></th>\n",
       "      <th></th>\n",
       "    </tr>\n",
       "  </thead>\n",
       "  <tbody>\n",
       "    <tr>\n",
       "      <th>2016-03-01</th>\n",
       "      <td>NaN</td>\n",
       "      <td>NaN</td>\n",
       "      <td>NaN</td>\n",
       "      <td>NaN</td>\n",
       "      <td>NaN</td>\n",
       "      <td>NaN</td>\n",
       "    </tr>\n",
       "    <tr>\n",
       "      <th>2016-03-02</th>\n",
       "      <td>0.017470</td>\n",
       "      <td>0.002188</td>\n",
       "      <td>0.001184</td>\n",
       "      <td>-0.003762</td>\n",
       "      <td>-0.025588</td>\n",
       "      <td>-0.020080</td>\n",
       "    </tr>\n",
       "    <tr>\n",
       "      <th>2016-03-03</th>\n",
       "      <td>-0.003628</td>\n",
       "      <td>0.007444</td>\n",
       "      <td>-0.003365</td>\n",
       "      <td>-0.001057</td>\n",
       "      <td>-0.005514</td>\n",
       "      <td>0.004098</td>\n",
       "    </tr>\n",
       "    <tr>\n",
       "      <th>2016-03-04</th>\n",
       "      <td>-0.001335</td>\n",
       "      <td>0.014877</td>\n",
       "      <td>-0.010860</td>\n",
       "      <td>0.009676</td>\n",
       "      <td>-0.025405</td>\n",
       "      <td>-0.028571</td>\n",
       "    </tr>\n",
       "    <tr>\n",
       "      <th>2016-03-05</th>\n",
       "      <td>0.000000</td>\n",
       "      <td>0.000000</td>\n",
       "      <td>0.000000</td>\n",
       "      <td>0.000000</td>\n",
       "      <td>-0.025232</td>\n",
       "      <td>-0.058824</td>\n",
       "    </tr>\n",
       "  </tbody>\n",
       "</table>\n",
       "</div>"
      ],
      "text/plain": [
       "                 xom      aapl        fb       wmt       BTC      DOGE\n",
       "Date                                                                  \n",
       "2016-03-01       NaN       NaN       NaN       NaN       NaN       NaN\n",
       "2016-03-02  0.017470  0.002188  0.001184 -0.003762 -0.025588 -0.020080\n",
       "2016-03-03 -0.003628  0.007444 -0.003365 -0.001057 -0.005514  0.004098\n",
       "2016-03-04 -0.001335  0.014877 -0.010860  0.009676 -0.025405 -0.028571\n",
       "2016-03-05  0.000000  0.000000  0.000000  0.000000 -0.025232 -0.058824"
      ]
     },
     "execution_count": 8,
     "metadata": {},
     "output_type": "execute_result"
    }
   ],
   "source": [
    "#Calculating daily returns using pandas method\n",
    "crypto_daily_return = crypto.pct_change(1)\n",
    "crypto_daily_return.head()"
   ]
  },
  {
   "cell_type": "code",
   "execution_count": 9,
   "metadata": {},
   "outputs": [
    {
     "data": {
      "text/html": [
       "<div>\n",
       "<style scoped>\n",
       "    .dataframe tbody tr th:only-of-type {\n",
       "        vertical-align: middle;\n",
       "    }\n",
       "\n",
       "    .dataframe tbody tr th {\n",
       "        vertical-align: top;\n",
       "    }\n",
       "\n",
       "    .dataframe thead th {\n",
       "        text-align: right;\n",
       "    }\n",
       "</style>\n",
       "<table border=\"1\" class=\"dataframe\">\n",
       "  <thead>\n",
       "    <tr style=\"text-align: right;\">\n",
       "      <th></th>\n",
       "      <th>xom</th>\n",
       "      <th>aapl</th>\n",
       "      <th>fb</th>\n",
       "      <th>wmt</th>\n",
       "      <th>BTC</th>\n",
       "      <th>DOGE</th>\n",
       "    </tr>\n",
       "    <tr>\n",
       "      <th>Date</th>\n",
       "      <th></th>\n",
       "      <th></th>\n",
       "      <th></th>\n",
       "      <th></th>\n",
       "      <th></th>\n",
       "      <th></th>\n",
       "    </tr>\n",
       "  </thead>\n",
       "  <tbody>\n",
       "    <tr>\n",
       "      <th>2016-03-01</th>\n",
       "      <td>NaN</td>\n",
       "      <td>NaN</td>\n",
       "      <td>NaN</td>\n",
       "      <td>NaN</td>\n",
       "      <td>NaN</td>\n",
       "      <td>NaN</td>\n",
       "    </tr>\n",
       "    <tr>\n",
       "      <th>2016-03-02</th>\n",
       "      <td>0.017320</td>\n",
       "      <td>0.002186</td>\n",
       "      <td>0.001183</td>\n",
       "      <td>-0.003769</td>\n",
       "      <td>-0.025921</td>\n",
       "      <td>-0.020285</td>\n",
       "    </tr>\n",
       "    <tr>\n",
       "      <th>2016-03-03</th>\n",
       "      <td>-0.003634</td>\n",
       "      <td>0.007417</td>\n",
       "      <td>-0.003371</td>\n",
       "      <td>-0.001058</td>\n",
       "      <td>-0.005530</td>\n",
       "      <td>0.004090</td>\n",
       "    </tr>\n",
       "    <tr>\n",
       "      <th>2016-03-04</th>\n",
       "      <td>-0.001336</td>\n",
       "      <td>0.014767</td>\n",
       "      <td>-0.010919</td>\n",
       "      <td>0.009630</td>\n",
       "      <td>-0.025733</td>\n",
       "      <td>-0.028988</td>\n",
       "    </tr>\n",
       "    <tr>\n",
       "      <th>2016-03-05</th>\n",
       "      <td>NaN</td>\n",
       "      <td>NaN</td>\n",
       "      <td>NaN</td>\n",
       "      <td>NaN</td>\n",
       "      <td>-0.025556</td>\n",
       "      <td>-0.060625</td>\n",
       "    </tr>\n",
       "  </tbody>\n",
       "</table>\n",
       "</div>"
      ],
      "text/plain": [
       "                 xom      aapl        fb       wmt       BTC      DOGE\n",
       "Date                                                                  \n",
       "2016-03-01       NaN       NaN       NaN       NaN       NaN       NaN\n",
       "2016-03-02  0.017320  0.002186  0.001183 -0.003769 -0.025921 -0.020285\n",
       "2016-03-03 -0.003634  0.007417 -0.003371 -0.001058 -0.005530  0.004090\n",
       "2016-03-04 -0.001336  0.014767 -0.010919  0.009630 -0.025733 -0.028988\n",
       "2016-03-05       NaN       NaN       NaN       NaN -0.025556 -0.060625"
      ]
     },
     "execution_count": 9,
     "metadata": {},
     "output_type": "execute_result"
    }
   ],
   "source": [
    "#Calculating log returns\n",
    "log_return = np.log(crypto/crypto.shift(1))\n",
    "log_return.head()"
   ]
  },
  {
   "cell_type": "code",
   "execution_count": 10,
   "metadata": {},
   "outputs": [
    {
     "data": {
      "image/png": "[encoded data removed]",
      "text/plain": [
       "<Figure size 864x432 with 6 Axes>"
      ]
     },
     "metadata": {
      "needs_background": "light"
     },
     "output_type": "display_data"
    }
   ],
   "source": [
    "log_return.hist(bins=100,figsize=(12,6));\n",
    "plt.tight_layout()"
   ]
  },
  {
   "cell_type": "code",
   "execution_count": 11,
   "metadata": {},
   "outputs": [
    {
     "data": {
      "text/html": [
       "<div>\n",
       "<style scoped>\n",
       "    .dataframe tbody tr th:only-of-type {\n",
       "        vertical-align: middle;\n",
       "    }\n",
       "\n",
       "    .dataframe tbody tr th {\n",
       "        vertical-align: top;\n",
       "    }\n",
       "\n",
       "    .dataframe thead th {\n",
       "        text-align: right;\n",
       "    }\n",
       "</style>\n",
       "<table border=\"1\" class=\"dataframe\">\n",
       "  <thead>\n",
       "    <tr style=\"text-align: right;\">\n",
       "      <th></th>\n",
       "      <th>count</th>\n",
       "      <th>mean</th>\n",
       "      <th>std</th>\n",
       "      <th>min</th>\n",
       "      <th>25%</th>\n",
       "      <th>50%</th>\n",
       "      <th>75%</th>\n",
       "      <th>max</th>\n",
       "    </tr>\n",
       "  </thead>\n",
       "  <tbody>\n",
       "    <tr>\n",
       "      <th>xom</th>\n",
       "      <td>984.0</td>\n",
       "      <td>-0.000669</td>\n",
       "      <td>0.017582</td>\n",
       "      <td>-0.121422</td>\n",
       "      <td>-0.007873</td>\n",
       "      <td>-0.000731</td>\n",
       "      <td>0.006984</td>\n",
       "      <td>0.119442</td>\n",
       "    </tr>\n",
       "    <tr>\n",
       "      <th>aapl</th>\n",
       "      <td>984.0</td>\n",
       "      <td>0.001010</td>\n",
       "      <td>0.018229</td>\n",
       "      <td>-0.104924</td>\n",
       "      <td>-0.006487</td>\n",
       "      <td>0.000644</td>\n",
       "      <td>0.009186</td>\n",
       "      <td>0.113157</td>\n",
       "    </tr>\n",
       "    <tr>\n",
       "      <th>fb</th>\n",
       "      <td>984.0</td>\n",
       "      <td>0.000827</td>\n",
       "      <td>0.019979</td>\n",
       "      <td>-0.210239</td>\n",
       "      <td>-0.007124</td>\n",
       "      <td>0.001025</td>\n",
       "      <td>0.010520</td>\n",
       "      <td>0.102704</td>\n",
       "    </tr>\n",
       "    <tr>\n",
       "      <th>wmt</th>\n",
       "      <td>984.0</td>\n",
       "      <td>0.000330</td>\n",
       "      <td>0.013689</td>\n",
       "      <td>-0.095092</td>\n",
       "      <td>-0.005596</td>\n",
       "      <td>0.000291</td>\n",
       "      <td>0.005996</td>\n",
       "      <td>0.110723</td>\n",
       "    </tr>\n",
       "    <tr>\n",
       "      <th>BTC</th>\n",
       "      <td>1819.0</td>\n",
       "      <td>0.002573</td>\n",
       "      <td>0.040306</td>\n",
       "      <td>-0.464730</td>\n",
       "      <td>-0.011751</td>\n",
       "      <td>0.002282</td>\n",
       "      <td>0.018071</td>\n",
       "      <td>0.225119</td>\n",
       "    </tr>\n",
       "    <tr>\n",
       "      <th>DOGE</th>\n",
       "      <td>1819.0</td>\n",
       "      <td>0.002909</td>\n",
       "      <td>0.073237</td>\n",
       "      <td>-0.515118</td>\n",
       "      <td>-0.020482</td>\n",
       "      <td>0.000000</td>\n",
       "      <td>0.018352</td>\n",
       "      <td>1.323469</td>\n",
       "    </tr>\n",
       "  </tbody>\n",
       "</table>\n",
       "</div>"
      ],
      "text/plain": [
       "       count      mean       std       min       25%       50%       75%  \\\n",
       "xom    984.0 -0.000669  0.017582 -0.121422 -0.007873 -0.000731  0.006984   \n",
       "aapl   984.0  0.001010  0.018229 -0.104924 -0.006487  0.000644  0.009186   \n",
       "fb     984.0  0.000827  0.019979 -0.210239 -0.007124  0.001025  0.010520   \n",
       "wmt    984.0  0.000330  0.013689 -0.095092 -0.005596  0.000291  0.005996   \n",
       "BTC   1819.0  0.002573  0.040306 -0.464730 -0.011751  0.002282  0.018071   \n",
       "DOGE  1819.0  0.002909  0.073237 -0.515118 -0.020482  0.000000  0.018352   \n",
       "\n",
       "           max  \n",
       "xom   0.119442  \n",
       "aapl  0.113157  \n",
       "fb    0.102704  \n",
       "wmt   0.110723  \n",
       "BTC   0.225119  \n",
       "DOGE  1.323469  "
      ]
     },
     "execution_count": 11,
     "metadata": {},
     "output_type": "execute_result"
    }
   ],
   "source": [
    "log_return.describe().transpose()"
   ]
  },
  {
   "cell_type": "code",
   "execution_count": 12,
   "metadata": {},
   "outputs": [
    {
     "data": {
      "text/plain": [
       "xom    -0.169332\n",
       "aapl    0.255563\n",
       "fb      0.209250\n",
       "wmt     0.083395\n",
       "BTC     0.650876\n",
       "DOGE    0.736085\n",
       "dtype: float64"
      ]
     },
     "execution_count": 12,
     "metadata": {},
     "output_type": "execute_result"
    }
   ],
   "source": [
    "# Using total number of days in a year 253\n",
    "log_return.mean() * 253"
   ]
  },
  {
   "cell_type": "code",
   "execution_count": 13,
   "metadata": {},
   "outputs": [
    {
     "data": {
      "text/html": [
       "<div>\n",
       "<style scoped>\n",
       "    .dataframe tbody tr th:only-of-type {\n",
       "        vertical-align: middle;\n",
       "    }\n",
       "\n",
       "    .dataframe tbody tr th {\n",
       "        vertical-align: top;\n",
       "    }\n",
       "\n",
       "    .dataframe thead th {\n",
       "        text-align: right;\n",
       "    }\n",
       "</style>\n",
       "<table border=\"1\" class=\"dataframe\">\n",
       "  <thead>\n",
       "    <tr style=\"text-align: right;\">\n",
       "      <th></th>\n",
       "      <th>xom</th>\n",
       "      <th>aapl</th>\n",
       "      <th>fb</th>\n",
       "      <th>wmt</th>\n",
       "      <th>BTC</th>\n",
       "      <th>DOGE</th>\n",
       "    </tr>\n",
       "  </thead>\n",
       "  <tbody>\n",
       "    <tr>\n",
       "      <th>xom</th>\n",
       "      <td>0.078212</td>\n",
       "      <td>0.029526</td>\n",
       "      <td>0.026806</td>\n",
       "      <td>0.012306</td>\n",
       "      <td>0.028768</td>\n",
       "      <td>0.023070</td>\n",
       "    </tr>\n",
       "    <tr>\n",
       "      <th>aapl</th>\n",
       "      <td>0.029526</td>\n",
       "      <td>0.084070</td>\n",
       "      <td>0.051540</td>\n",
       "      <td>0.019542</td>\n",
       "      <td>0.031654</td>\n",
       "      <td>0.026406</td>\n",
       "    </tr>\n",
       "    <tr>\n",
       "      <th>fb</th>\n",
       "      <td>0.026806</td>\n",
       "      <td>0.051540</td>\n",
       "      <td>0.100987</td>\n",
       "      <td>0.012678</td>\n",
       "      <td>0.028308</td>\n",
       "      <td>0.017702</td>\n",
       "    </tr>\n",
       "    <tr>\n",
       "      <th>wmt</th>\n",
       "      <td>0.012306</td>\n",
       "      <td>0.019542</td>\n",
       "      <td>0.012678</td>\n",
       "      <td>0.047407</td>\n",
       "      <td>0.017917</td>\n",
       "      <td>0.005970</td>\n",
       "    </tr>\n",
       "    <tr>\n",
       "      <th>BTC</th>\n",
       "      <td>0.028768</td>\n",
       "      <td>0.031654</td>\n",
       "      <td>0.028308</td>\n",
       "      <td>0.017917</td>\n",
       "      <td>0.411023</td>\n",
       "      <td>0.345570</td>\n",
       "    </tr>\n",
       "    <tr>\n",
       "      <th>DOGE</th>\n",
       "      <td>0.023070</td>\n",
       "      <td>0.026406</td>\n",
       "      <td>0.017702</td>\n",
       "      <td>0.005970</td>\n",
       "      <td>0.345570</td>\n",
       "      <td>1.357020</td>\n",
       "    </tr>\n",
       "  </tbody>\n",
       "</table>\n",
       "</div>"
      ],
      "text/plain": [
       "           xom      aapl        fb       wmt       BTC      DOGE\n",
       "xom   0.078212  0.029526  0.026806  0.012306  0.028768  0.023070\n",
       "aapl  0.029526  0.084070  0.051540  0.019542  0.031654  0.026406\n",
       "fb    0.026806  0.051540  0.100987  0.012678  0.028308  0.017702\n",
       "wmt   0.012306  0.019542  0.012678  0.047407  0.017917  0.005970\n",
       "BTC   0.028768  0.031654  0.028308  0.017917  0.411023  0.345570\n",
       "DOGE  0.023070  0.026406  0.017702  0.005970  0.345570  1.357020"
      ]
     },
     "execution_count": 13,
     "metadata": {},
     "output_type": "execute_result"
    }
   ],
   "source": [
    "# Covariance in 253 days\n",
    "log_return.cov() * 253"
   ]
  },
  {
   "cell_type": "code",
   "execution_count": 35,
   "metadata": {},
   "outputs": [],
   "source": [
    "# Code from Mushfiqur Rahman link: https://github.com/mrmushfiq/python_meets_finance/blob/master/Portfolio_optimization/efficient_frontier_Portfolio_optimization.ipynb\n",
    "\n",
    "num_runs = 10000\n",
    "\n",
    "all_weights = np.zeros((num_runs,len(crypto.columns)))\n",
    "ret_arr = np.zeros(num_runs)\n",
    "vol_arr = np.zeros(num_runs)\n",
    "sharpe_arr = np.zeros(num_runs)\n",
    "\n",
    "for ind in range(num_runs):\n",
    "\n",
    "    # Create Random Weights\n",
    "    weights = np.array(np.random.random(6))\n",
    "\n",
    "    # Rebalance Weights\n",
    "    weights = weights / np.sum(weights)\n",
    "    \n",
    "    # Save Weights\n",
    "    all_weights[ind,:] = weights\n",
    "\n",
    "    # Expected Return\n",
    "    ret_arr[ind] = np.sum((log_return.mean() * weights) *253)\n",
    "\n",
    "    # Expected Variance\n",
    "    vol_arr[ind] = np.sqrt(np.dot(weights.T, np.dot(log_return.cov() * 253, weights)))\n",
    "\n",
    "    # Sharpe Ratio\n",
    "    sharpe_arr[ind] = ret_arr[ind]/vol_arr[ind]\n",
    "    \n",
    "    data = {'Returns':ret_arr, 'Volatility':vol_arr}\n",
    "\n",
    "for counter, symbol in enumerate(crypto.columns.tolist()):\n",
    "    #print(counter, symbol)\n",
    "    data[symbol+' weight'] = [w[counter] for w in all_weights]"
   ]
  },
  {
   "cell_type": "code",
   "execution_count": 36,
   "metadata": {},
   "outputs": [
    {
     "data": {
      "text/plain": [
       "1.2486382256043027"
      ]
     },
     "execution_count": 36,
     "metadata": {},
     "output_type": "execute_result"
    }
   ],
   "source": [
    "sharpe_arr.max()"
   ]
  },
  {
   "cell_type": "code",
   "execution_count": 37,
   "metadata": {},
   "outputs": [
    {
     "data": {
      "text/plain": [
       "6031"
      ]
     },
     "execution_count": 37,
     "metadata": {},
     "output_type": "execute_result"
    }
   ],
   "source": [
    "sharpe_arr.argmax()"
   ]
  },
  {
   "cell_type": "code",
   "execution_count": 38,
   "metadata": {},
   "outputs": [
    {
     "data": {
      "text/plain": [
       "array([0.06730706, 0.32014792, 0.32652857, 0.12015213, 0.12376736,\n",
       "       0.04209696])"
      ]
     },
     "execution_count": 38,
     "metadata": {},
     "output_type": "execute_result"
    }
   ],
   "source": [
    "all_weights[9683,:]"
   ]
  },
  {
   "cell_type": "code",
   "execution_count": 39,
   "metadata": {},
   "outputs": [
    {
     "name": "stdout",
     "output_type": "stream",
     "text": [
      "Return with Maximum SR\n",
      "0.355096551335183\n",
      "Volality with Maximum SR\n",
      "0.2843870578792565\n"
     ]
    }
   ],
   "source": [
    "max_sr_ret = ret_arr[sharpe_arr.argmax()]\n",
    "max_sr_vol = vol_arr[sharpe_arr.argmax()]\n",
    "\n",
    "print('Return with Maximum SR')\n",
    "print(max_sr_ret)\n",
    "print('Volality with Maximum SR')\n",
    "print(max_sr_vol)"
   ]
  },
  {
   "cell_type": "code",
   "execution_count": 40,
   "metadata": {},
   "outputs": [
    {
     "data": {
      "text/html": [
       "<div>\n",
       "<style scoped>\n",
       "    .dataframe tbody tr th:only-of-type {\n",
       "        vertical-align: middle;\n",
       "    }\n",
       "\n",
       "    .dataframe tbody tr th {\n",
       "        vertical-align: top;\n",
       "    }\n",
       "\n",
       "    .dataframe thead th {\n",
       "        text-align: right;\n",
       "    }\n",
       "</style>\n",
       "<table border=\"1\" class=\"dataframe\">\n",
       "  <thead>\n",
       "    <tr style=\"text-align: right;\">\n",
       "      <th></th>\n",
       "      <th>Returns</th>\n",
       "      <th>Volatility</th>\n",
       "      <th>xom weight</th>\n",
       "      <th>aapl weight</th>\n",
       "      <th>fb weight</th>\n",
       "      <th>wmt weight</th>\n",
       "      <th>BTC weight</th>\n",
       "      <th>DOGE weight</th>\n",
       "    </tr>\n",
       "  </thead>\n",
       "  <tbody>\n",
       "    <tr>\n",
       "      <th>0</th>\n",
       "      <td>0.264957</td>\n",
       "      <td>0.270428</td>\n",
       "      <td>0.225577</td>\n",
       "      <td>0.201495</td>\n",
       "      <td>0.197998</td>\n",
       "      <td>0.065683</td>\n",
       "      <td>0.268535</td>\n",
       "      <td>0.040714</td>\n",
       "    </tr>\n",
       "    <tr>\n",
       "      <th>1</th>\n",
       "      <td>0.253961</td>\n",
       "      <td>0.263997</td>\n",
       "      <td>0.220817</td>\n",
       "      <td>0.170257</td>\n",
       "      <td>0.221396</td>\n",
       "      <td>0.100487</td>\n",
       "      <td>0.213053</td>\n",
       "      <td>0.073990</td>\n",
       "    </tr>\n",
       "    <tr>\n",
       "      <th>2</th>\n",
       "      <td>0.239350</td>\n",
       "      <td>0.294549</td>\n",
       "      <td>0.190737</td>\n",
       "      <td>0.139695</td>\n",
       "      <td>0.245256</td>\n",
       "      <td>0.190365</td>\n",
       "      <td>0.040528</td>\n",
       "      <td>0.193419</td>\n",
       "    </tr>\n",
       "    <tr>\n",
       "      <th>3</th>\n",
       "      <td>0.240911</td>\n",
       "      <td>0.362876</td>\n",
       "      <td>0.323630</td>\n",
       "      <td>0.267764</td>\n",
       "      <td>0.018374</td>\n",
       "      <td>0.093131</td>\n",
       "      <td>0.035457</td>\n",
       "      <td>0.261644</td>\n",
       "    </tr>\n",
       "    <tr>\n",
       "      <th>4</th>\n",
       "      <td>0.295570</td>\n",
       "      <td>0.270908</td>\n",
       "      <td>0.072346</td>\n",
       "      <td>0.164020</td>\n",
       "      <td>0.214069</td>\n",
       "      <td>0.258431</td>\n",
       "      <td>0.173006</td>\n",
       "      <td>0.118128</td>\n",
       "    </tr>\n",
       "  </tbody>\n",
       "</table>\n",
       "</div>"
      ],
      "text/plain": [
       "    Returns  Volatility  xom weight  aapl weight  fb weight  wmt weight  \\\n",
       "0  0.264957    0.270428    0.225577     0.201495   0.197998    0.065683   \n",
       "1  0.253961    0.263997    0.220817     0.170257   0.221396    0.100487   \n",
       "2  0.239350    0.294549    0.190737     0.139695   0.245256    0.190365   \n",
       "3  0.240911    0.362876    0.323630     0.267764   0.018374    0.093131   \n",
       "4  0.295570    0.270908    0.072346     0.164020   0.214069    0.258431   \n",
       "\n",
       "   BTC weight  DOGE weight  \n",
       "0    0.268535     0.040714  \n",
       "1    0.213053     0.073990  \n",
       "2    0.040528     0.193419  \n",
       "3    0.035457     0.261644  \n",
       "4    0.173006     0.118128  "
      ]
     },
     "execution_count": 40,
     "metadata": {},
     "output_type": "execute_result"
    }
   ],
   "source": [
    "portfolios  = pd.DataFrame(data)\n",
    "portfolios.head() # Dataframe of the 10000 portfolios created"
   ]
  },
  {
   "cell_type": "code",
   "execution_count": 98,
   "metadata": {},
   "outputs": [
    {
     "data": {
      "text/html": [
       "<div>\n",
       "<style scoped>\n",
       "    .dataframe tbody tr th:only-of-type {\n",
       "        vertical-align: middle;\n",
       "    }\n",
       "\n",
       "    .dataframe tbody tr th {\n",
       "        vertical-align: top;\n",
       "    }\n",
       "\n",
       "    .dataframe thead th {\n",
       "        text-align: right;\n",
       "    }\n",
       "</style>\n",
       "<table border=\"1\" class=\"dataframe\">\n",
       "  <thead>\n",
       "    <tr style=\"text-align: right;\">\n",
       "      <th></th>\n",
       "      <th>Returns</th>\n",
       "      <th>Volatility</th>\n",
       "      <th>xom weight</th>\n",
       "      <th>aapl weight</th>\n",
       "      <th>fb weight</th>\n",
       "      <th>wmt weight</th>\n",
       "      <th>BTC weight</th>\n",
       "      <th>DOGE weight</th>\n",
       "    </tr>\n",
       "  </thead>\n",
       "  <tbody>\n",
       "    <tr>\n",
       "      <th>5000</th>\n",
       "      <td>0.498508</td>\n",
       "      <td>0.454072</td>\n",
       "      <td>0.035487</td>\n",
       "      <td>0.117725</td>\n",
       "      <td>0.175141</td>\n",
       "      <td>0.022693</td>\n",
       "      <td>0.490505</td>\n",
       "      <td>0.158449</td>\n",
       "    </tr>\n",
       "  </tbody>\n",
       "</table>\n",
       "</div>"
      ],
      "text/plain": [
       "       Returns  Volatility  xom weight  aapl weight  fb weight  wmt weight  \\\n",
       "5000  0.498508    0.454072    0.035487     0.117725   0.175141    0.022693   \n",
       "\n",
       "      BTC weight  DOGE weight  \n",
       "5000    0.490505     0.158449  "
      ]
     },
     "execution_count": 98,
     "metadata": {},
     "output_type": "execute_result"
    }
   ],
   "source": [
    "# Find weights based on desired ranges of return and volatitilities\n",
    "seach_df = portfolios.loc[(portfolios['Returns'] >= 0.49) & (portfolios['Returns'] <= 0.51)]\n",
    "seach_df = seach_df.loc[(seach_df['Volatility'] >= 0.44) & (seach_df['Volatility'] <= 0.46)]\n",
    "seach_df"
   ]
  },
  {
   "cell_type": "markdown",
   "metadata": {},
   "source": [
    "## Effective frontier\n"
   ]
  },
  {
   "cell_type": "code",
   "execution_count": 105,
   "metadata": {},
   "outputs": [
    {
     "data": {
      "text/plain": [
       "<matplotlib.collections.PathCollection at 0x7fe4c19ee280>"
      ]
     },
     "execution_count": 105,
     "metadata": {},
     "output_type": "execute_result"
    },
    {
     "data": {
      "image/png": "[encoded data removed]",
      "text/plain": [
       "<Figure size 1008x576 with 2 Axes>"
      ]
     },
     "metadata": {
      "needs_background": "light"
     },
     "output_type": "display_data"
    }
   ],
   "source": [
    "plt.figure(figsize=(14,8))\n",
    "plt.scatter(vol_arr,ret_arr,c=sharpe_arr,cmap='viridis')\n",
    "plt.colorbar(label='Sharpe Ratio')\n",
    "plt.xlabel('Volatility')\n",
    "plt.ylabel('Return')\n",
    "\n",
    "# Add red dot for max SR\n",
    "plt.scatter(max_sr_vol,max_sr_ret,c='black',s=100,edgecolors='black')\n",
    "#plt.scatter(0.45,0.5,c='black',s=50,edgecolors='black')"
   ]
  },
  {
   "cell_type": "code",
   "execution_count": 20,
   "metadata": {},
   "outputs": [],
   "source": []
  }
 ],
 "metadata": {
  "kernelspec": {
   "display_name": "Python 3",
   "language": "python",
   "name": "python3"
  },
  "language_info": {
   "codemirror_mode": {
    "name": "ipython",
    "version": 3
   },
   "file_extension": ".py",
   "mimetype": "text/x-python",
   "name": "python",
   "nbconvert_exporter": "python",
   "pygments_lexer": "ipython3",
   "version": "3.8.5"
  }
 },
 "nbformat": 4,
 "nbformat_minor": 4
}
